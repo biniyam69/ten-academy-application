{
 "cells": [
  {
   "cell_type": "code",
   "execution_count": 5,
   "id": "26986e55",
   "metadata": {},
   "outputs": [],
   "source": [
    "import numpy as np\n",
    "import scipy\n",
    "from scipy.special import expit as activation_function\n",
    "from scipy.stats import truncnorm"
   ]
  },
  {
   "cell_type": "code",
   "execution_count": 6,
   "id": "e7601346",
   "metadata": {},
   "outputs": [],
   "source": [
    "# DEFINE NETWORK\n",
    "# Generate random numbers within truncated normal distribution\n",
    "\n",
    "def truncated_normal(mean = 0 , std = 1, low = 0, upp = 10):\n",
    "    return truncnorm((low - mean) / std , (upp - mean) / std, loc = mean, scale=std)"
   ]
  },
  {
   "cell_type": "code",
   "execution_count": 13,
   "id": "aac88684",
   "metadata": {},
   "outputs": [],
   "source": [
    "class NeuralNet:\n",
    "    #Initiate the class attribs\n",
    "    def __init__(self,\n",
    "                no_of_in_nodes,\n",
    "                no_of_out_nodes,\n",
    "                no_of_hidden_nodes,\n",
    "                learning_rate):\n",
    "        self.no_of_in_nodes = no_of_in_nodes\n",
    "        self.no_of_out_nodes = no_of_out_nodes\n",
    "        self.no_of_hidden_nodes = no_of_hidden_nodes\n",
    "        self.learning_rate = learning_rate\n",
    "        self.create_weight_matrices()\n",
    "        \n",
    "    def create_weight_matrices(self):\n",
    "        \n",
    "        \n",
    "        #\n",
    "        rad = 1 / np.sqrt(self.no_of_in_nodes)\n",
    "        X = truncated_normal(mean=0, std=1, low=-rad, upp=rad)\n",
    "        self.weights_in_hidden = X.rvs((self.no_of_hidden_nodes, \n",
    "                                       self.no_of_in_nodes))\n",
    "        rad = 1 / np.sqrt(self.no_of_out_nodes)\n",
    "        X = truncated_normal(mean = 0, std = 1, low=-rad, upp=rad)\n",
    "        self.weights_in_hidden_out = X.rvs((self.no_of_out_nodes,\n",
    "                                           self.no_of_hidden_nodes))\n",
    "        \n",
    "    def train(self, input_vector, target_vector):\n",
    "        pass\n",
    "    \n",
    "    def run(self, input_vector):\n",
    "        input_vector = np.array(input_vector, ndmin=2).T\n",
    "        \n",
    "        input_hidden = activation_function(self.weights_in_hidden @ input_vector)\n",
    "        output_vector = activation_function(self.weights_in_hidden_out @ input_hidden)\n",
    "        \n",
    "        return output_vector\n",
    "        "
   ]
  },
  {
   "cell_type": "code",
   "execution_count": 14,
   "id": "b455fcb7",
   "metadata": {},
   "outputs": [
    {
     "data": {
      "text/plain": [
       "array([[0.35751972],\n",
       "       [0.69607017]])"
      ]
     },
     "execution_count": 14,
     "metadata": {},
     "output_type": "execute_result"
    }
   ],
   "source": [
    "simple_net = NeuralNet(no_of_in_nodes=2,\n",
    "                      no_of_out_nodes=2,\n",
    "                      no_of_hidden_nodes=4,\n",
    "                      learning_rate=0.001)\n",
    "\n",
    "simple_net.run([(5,6)])"
   ]
  },
  {
   "cell_type": "code",
   "execution_count": null,
   "id": "c343cac5",
   "metadata": {},
   "outputs": [],
   "source": []
  }
 ],
 "metadata": {
  "kernelspec": {
   "display_name": "Python 3 (ipykernel)",
   "language": "python",
   "name": "python3"
  },
  "language_info": {
   "codemirror_mode": {
    "name": "ipython",
    "version": 3
   },
   "file_extension": ".py",
   "mimetype": "text/x-python",
   "name": "python",
   "nbconvert_exporter": "python",
   "pygments_lexer": "ipython3",
   "version": "3.10.9"
  }
 },
 "nbformat": 4,
 "nbformat_minor": 5
}
