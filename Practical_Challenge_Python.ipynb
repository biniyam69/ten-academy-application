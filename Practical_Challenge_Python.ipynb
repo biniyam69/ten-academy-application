{
  "nbformat": 4,
  "nbformat_minor": 0,
  "metadata": {
    "colab": {
      "provenance": []
    },
    "kernelspec": {
      "name": "python3",
      "display_name": "Python 3"
    },
    "language_info": {
      "name": "python"
    }
  },
  "cells": [
    {
      "cell_type": "code",
      "source": [
        "\"\"\"\n",
        "\n",
        "THE WORKING CODE\n",
        "\n",
        "\"\"\"\n",
        "\n",
        "\n",
        "from typing import Tuple, Dict\n",
        "\n",
        "\n",
        "def validate_email_addr(email_addr: str) -> bool:\n",
        "    email_addr = email_addr.strip()\n",
        "\n",
        "    if len(email_addr) > 254:\n",
        "        raise ValueError(\"Total length exceeds 254 bytes.\")\n",
        "    if email_addr.count('@') != 1:\n",
        "        raise ValueError(\"Address must contain a single @\")\n",
        "\n",
        "    parts = email_addr.split('@')\n",
        "\n",
        "    if len(parts[0]) > 64:\n",
        "        raise ValueError(\"len of the part before exceeds 65 bits\")\n",
        "\n",
        "    if len(parts[1]) > 251:\n",
        "        raise ValueError('len of the part after @ exceed 251 byytes')\n",
        "\n",
        "\n",
        "    allowed_chars =  set(\"abcdefghijklmnopqrstuvwxyzABCDEFGHIJKLMNOPQRSTUVWXYZ0123456789@.\")\n",
        "    if not all(char in allowed_chars for char in email_addr):\n",
        "        raise ValueError(\"INvalid chars in the email address!\")\n",
        "\n",
        "    return True\n",
        "\n",
        "\n",
        "def validate_email_payload(sender_name: str, sender_addr: str, receiver_name: str, receiver_addr: str, html: str,\n",
        "                           replacements: Dict) -> bool:\n",
        "    \"\"\"\n",
        "    Returns True if the payload is validated and is safe to send out. Otherwise, returns False.\n",
        "    \"\"\"\n",
        "    if not (5 <= len(sender_name) <= 30):\n",
        "        return False\n",
        "\n",
        "    if not (5 <= len(receiver_name) <= 60):\n",
        "        return False\n",
        "\n",
        "    if not validate_email_addr(sender_addr):\n",
        "        return False\n",
        "\n",
        "    if not validate_email_addr(receiver_addr):\n",
        "        return False\n",
        "\n",
        "\n",
        "    # Replace placeholders in the HTML content with corresponding values\n",
        "    for key, value in replacements.items():\n",
        "        tag = f\"{{{key}}}\"\n",
        "        html = html.replace(tag, value)\n",
        "\n",
        "    # Check if there are any remaining placeholders in the HTML content\n",
        "    if \"{\" in html or \"}\" in html:\n",
        "        return False\n",
        "\n",
        "\n",
        "    return True"
      ],
      "metadata": {
        "id": "O0s7ZX1PHvHi"
      },
      "execution_count": null,
      "outputs": []
    }
  ]
}